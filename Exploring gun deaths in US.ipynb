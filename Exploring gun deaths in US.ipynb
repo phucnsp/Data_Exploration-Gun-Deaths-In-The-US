{
 "cells": [
  {
   "cell_type": "code",
   "execution_count": 4,
   "metadata": {
    "collapsed": false
   },
   "outputs": [
    {
     "name": "stdout",
     "output_type": "stream",
     "text": [
      "[['', 'year', 'month', 'intent', 'police', 'sex', 'age', 'race', 'hispanic', 'place', 'education'], ['1', '2012', '01', 'Suicide', '0', 'M', '34', 'Asian/Pacific Islander', '100', 'Home', '4'], ['2', '2012', '01', 'Suicide', '0', 'F', '21', 'White', '100', 'Street', '3'], ['3', '2012', '01', 'Suicide', '0', 'M', '60', 'White', '100', 'Other specified', '4'], ['4', '2012', '02', 'Suicide', '0', 'M', '64', 'White', '100', 'Home', '4']]\n"
     ]
    }
   ],
   "source": [
    "# Read the dataset\n",
    "import csv\n",
    "f = open('guns.csv', 'r')\n",
    "data = list(csv.reader(f))\n",
    "print(data[0:5])\n"
   ]
  },
  {
   "cell_type": "code",
   "execution_count": 5,
   "metadata": {
    "collapsed": false,
    "scrolled": true
   },
   "outputs": [
    {
     "name": "stdout",
     "output_type": "stream",
     "text": [
      "['', 'year', 'month', 'intent', 'police', 'sex', 'age', 'race', 'hispanic', 'place', 'education']\n",
      "[['1', '2012', '01', 'Suicide', '0', 'M', '34', 'Asian/Pacific Islander', '100', 'Home', '4'], ['2', '2012', '01', 'Suicide', '0', 'F', '21', 'White', '100', 'Street', '3'], ['3', '2012', '01', 'Suicide', '0', 'M', '60', 'White', '100', 'Other specified', '4'], ['4', '2012', '02', 'Suicide', '0', 'M', '64', 'White', '100', 'Home', '4'], ['5', '2012', '02', 'Suicide', '0', 'M', '31', 'White', '100', 'Other specified', '2']]\n"
     ]
    }
   ],
   "source": [
    "# Remove header from list of list\n",
    "headers = data[0]\n",
    "data = data[1:]\n",
    "print(headers)\n",
    "print(data[0:5])"
   ]
  },
  {
   "cell_type": "code",
   "execution_count": 6,
   "metadata": {
    "collapsed": false
   },
   "outputs": [
    {
     "name": "stdout",
     "output_type": "stream",
     "text": [
      "{'2013': 33636, '2012': 33563, '2014': 33599}\n"
     ]
    }
   ],
   "source": [
    "# Counting Gun Deaths by Year\n",
    "years = [item[1] for item in data]\n",
    "year_counts = {}\n",
    "for year in years:\n",
    "    year_counts[year] = year_counts.get(year, 0) + 1\n",
    "print(year_counts)\n"
   ]
  },
  {
   "cell_type": "code",
   "execution_count": 7,
   "metadata": {
    "collapsed": false
   },
   "outputs": [
    {
     "name": "stdout",
     "output_type": "stream",
     "text": [
      "[datetime.datetime(2012, 1, 1, 0, 0), datetime.datetime(2012, 1, 1, 0, 0), datetime.datetime(2012, 1, 1, 0, 0), datetime.datetime(2012, 2, 1, 0, 0), datetime.datetime(2012, 2, 1, 0, 0)]\n",
      "{datetime.datetime(2013, 5, 1, 0, 0): 2806, datetime.datetime(2012, 11, 1, 0, 0): 2729, datetime.datetime(2012, 9, 1, 0, 0): 2852, datetime.datetime(2014, 6, 1, 0, 0): 2931, datetime.datetime(2014, 4, 1, 0, 0): 2862, datetime.datetime(2014, 5, 1, 0, 0): 2864, datetime.datetime(2013, 8, 1, 0, 0): 2859, datetime.datetime(2013, 7, 1, 0, 0): 3079, datetime.datetime(2013, 11, 1, 0, 0): 2758, datetime.datetime(2013, 4, 1, 0, 0): 2798, datetime.datetime(2013, 1, 1, 0, 0): 2864, datetime.datetime(2014, 3, 1, 0, 0): 2684, datetime.datetime(2013, 12, 1, 0, 0): 2765, datetime.datetime(2012, 5, 1, 0, 0): 2999, datetime.datetime(2014, 7, 1, 0, 0): 2884, datetime.datetime(2013, 10, 1, 0, 0): 2808, datetime.datetime(2012, 8, 1, 0, 0): 2954, datetime.datetime(2014, 2, 1, 0, 0): 2361, datetime.datetime(2013, 2, 1, 0, 0): 2375, datetime.datetime(2014, 9, 1, 0, 0): 2914, datetime.datetime(2012, 1, 1, 0, 0): 2758, datetime.datetime(2012, 6, 1, 0, 0): 2826, datetime.datetime(2012, 4, 1, 0, 0): 2795, datetime.datetime(2014, 8, 1, 0, 0): 2970, datetime.datetime(2014, 12, 1, 0, 0): 2857, datetime.datetime(2013, 6, 1, 0, 0): 2920, datetime.datetime(2014, 10, 1, 0, 0): 2865, datetime.datetime(2012, 10, 1, 0, 0): 2733, datetime.datetime(2012, 2, 1, 0, 0): 2357, datetime.datetime(2013, 3, 1, 0, 0): 2862, datetime.datetime(2014, 11, 1, 0, 0): 2756, datetime.datetime(2013, 9, 1, 0, 0): 2742, datetime.datetime(2012, 7, 1, 0, 0): 3026, datetime.datetime(2012, 3, 1, 0, 0): 2743, datetime.datetime(2012, 12, 1, 0, 0): 2791, datetime.datetime(2014, 1, 1, 0, 0): 2651}\n"
     ]
    }
   ],
   "source": [
    "# Exploring Gun Deaths by month and year\n",
    "import datetime\n",
    "dates = [datetime.datetime(year = int(item[1]), month = int(item[2]), day = 1) for item in data]\n",
    "print(dates[0:5])\n",
    "date_counts = {}\n",
    "for date in dates:\n",
    "    date_counts[date] = date_counts.get(date, 0) + 1\n",
    "print(date_counts)\n",
    "         "
   ]
  },
  {
   "cell_type": "code",
   "execution_count": 8,
   "metadata": {
    "collapsed": false
   },
   "outputs": [
    {
     "name": "stdout",
     "output_type": "stream",
     "text": [
      "{'F': 14449, 'M': 86349}\n",
      "{'Native American/Native Alaskan': 917, 'Black': 23296, 'Hispanic': 9022, 'Asian/Pacific Islander': 1326, 'White': 66237}\n"
     ]
    }
   ],
   "source": [
    "# Exploring Gun Deaths by race and sex\n",
    "sex_counts = {}\n",
    "sex = [item[5] for item in data]\n",
    "for item in sex:\n",
    "    sex_counts[item] = sex_counts.get(item, 0) + 1\n",
    "print(sex_counts)\n",
    "\n",
    "race_counts = {}\n",
    "race = [item[7] for item in data]\n",
    "for item in race:\n",
    "    race_counts[item] = race_counts.get(item, 0) + 1\n",
    "print(race_counts)\n",
    "\n"
   ]
  },
  {
   "cell_type": "code",
   "execution_count": 9,
   "metadata": {
    "collapsed": false
   },
   "outputs": [
    {
     "name": "stdout",
     "output_type": "stream",
     "text": [
      "[['Id', 'Year', 'Id', 'Sex', 'Id', 'Hispanic Origin', 'Id', 'Id2', 'Geography', 'Total', 'Race Alone - White', 'Race Alone - Hispanic', 'Race Alone - Black or African American', 'Race Alone - American Indian and Alaska Native', 'Race Alone - Asian', 'Race Alone - Native Hawaiian and Other Pacific Islander', 'Two or More Races'], ['cen42010', 'April 1, 2010 Census', 'totsex', 'Both Sexes', 'tothisp', 'Total', '0100000US', '', 'United States', '308745538', '197318956', '44618105', '40250635', '3739506', '15159516', '674625', '6984195']]\n"
     ]
    }
   ],
   "source": [
    "# Read in a second dataset\n",
    "import csv\n",
    "f = open('census.csv')\n",
    "census = list(csv.reader(f))\n",
    "print(census)\n",
    "\n"
   ]
  },
  {
   "cell_type": "code",
   "execution_count": 10,
   "metadata": {
    "collapsed": false
   },
   "outputs": [
    {
     "name": "stdout",
     "output_type": "stream",
     "text": [
      "{'Native American/Native Alaskan': 24.521955573811088, 'Black': 57.8773477735196, 'Hispanic': 20.220491210910907, 'Asian/Pacific Islander': 8.374309664161762, 'White': 33.56849303419181}\n"
     ]
    }
   ],
   "source": [
    "# Computing rates of Gun Deaths per race\n",
    "mapping = {'Asian/Pacific Islander':(15159516+674625), \n",
    "           'Black': 40250635,\n",
    "           'Hispanic': 44618105,\n",
    "           'Native American/Native Alaskan': 3739506,\n",
    "           'White': 197318956\n",
    "           }\n",
    "race_per_hundredk = {}\n",
    "for item in race:\n",
    "    race_per_hundredk[item] = race_counts[item]/mapping[item]*100000\n",
    "print(race_per_hundredk)\n"
   ]
  },
  {
   "cell_type": "code",
   "execution_count": 13,
   "metadata": {
    "collapsed": false
   },
   "outputs": [
    {
     "name": "stdout",
     "output_type": "stream",
     "text": [
      "{'Native American/Native Alaskan': 8.717729026240365, 'Black': 48.471284987180944, 'Hispanic': 12.627161104219914, 'Asian/Pacific Islander': 3.530346230970155, 'White': 4.6356417981453335}\n"
     ]
    }
   ],
   "source": [
    "# Filtering by intent\n",
    "intents = [item[3] for item in data]\n",
    "races = [item[7] for item in data]\n",
    "homicide_race_counts = {}\n",
    "for i, race in enumerate(races):\n",
    "    if intents[i] == 'Homicide':\n",
    "        homicide_race_counts[race] = homicide_race_counts.get(race,0) + 1\n",
    "mapping = {'Asian/Pacific Islander':(15159516+674625), \n",
    "           'Black': 40250635,\n",
    "           'Hispanic': 44618105,\n",
    "           'Native American/Native Alaskan': 3739506,\n",
    "           'White': 197318956\n",
    "           }\n",
    "race_per_hundredk = {}\n",
    "for item in races:\n",
    "    race_per_hundredk[item] = homicide_race_counts[item]/mapping[item]*100000\n",
    "print(race_per_hundredk)\n"
   ]
  },
  {
   "cell_type": "markdown",
   "metadata": {},
   "source": [
    "The highest gun-related  murder rate is from 'Black' group\n",
    "\n",
    "The lowest ones are from Asia group and White group.\n",
    "\n",
    "Next steps:\n",
    "\n",
    "    Figure out the link, if any, between month and homicide rate.\n",
    "    Explore the homicide rate by gender.\n",
    "    Explore the rates of other intents, like Accidental, by gender and race.\n",
    "    Find out if gun death rates correlate to location and education."
   ]
  },
  {
   "cell_type": "code",
   "execution_count": null,
   "metadata": {
    "collapsed": true
   },
   "outputs": [],
   "source": []
  }
 ],
 "metadata": {
  "kernelspec": {
   "display_name": "Python 3",
   "language": "python",
   "name": "python3"
  },
  "language_info": {
   "codemirror_mode": {
    "name": "ipython",
    "version": 3
   },
   "file_extension": ".py",
   "mimetype": "text/x-python",
   "name": "python",
   "nbconvert_exporter": "python",
   "pygments_lexer": "ipython3",
   "version": "3.4.3"
  }
 },
 "nbformat": 4,
 "nbformat_minor": 0
}

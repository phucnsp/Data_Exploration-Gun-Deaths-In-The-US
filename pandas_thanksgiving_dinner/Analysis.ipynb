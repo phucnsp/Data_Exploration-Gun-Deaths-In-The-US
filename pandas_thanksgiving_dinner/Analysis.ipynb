#1. Introducing Thanksgiving Dinner Data
import pandas as pd
data = pd.read_csv('thanksgiving.csv', encoding='Latin-1')
print(data.head(2))
print(data.columns.tolist())

#2. Filtering Out Rows From A DataFrame
a = data['Do you celebrate Thanksgiving?'].value_counts(normalize = False)
print(a)
filtered_data = data.loc[data['Do you celebrate Thanksgiving?'] == 'Yes',:]
print(filtered_data)

#3. Using value_counts To Explore Main Dishes
print(data['What is typically the main dish at your Thanksgiving dinner?'].value_counts(normalize = False))
print(data.loc[data['What is typically the main dish at your Thanksgiving dinner?'] == 'Tofurkey', 'Do you typically have gravy?'])

#4. Figuring Out What Pies People Eat
apple_isnull = pd.isnull(data['Which type of pie is typically served at your Thanksgiving dinner? Please select all that apply. - Apple'])
pumpkin_isnull = pd.isnull(data['Which type of pie is typically served at your Thanksgiving dinner? Please select all that apply. - Pumpkin'])
pecan_isnull = pd.isnull(data['Which type of pie is typically served at your Thanksgiving dinner? Please select all that apply. - Pecan'])
ate_pies = (apple_isnull & pumpkin_isnull & pecan_isnull)
print(ate_pies.unique())
print(ate_pies.value_counts(normalize = False))

#5. Converting Age To Numeric
data['Age'].value_counts()
def convert_stringtoint(stringvalue):
    if pd.isnull(stringvalue):
        return None
    else:
        stringvalue = stringvalue.replace('+',' ')
        first_age = stringvalue.split(' ')[0]
    return int(first_age)
data['int_age'] = data['Age'].apply(convert_stringtoint)
data['int_age'].describe()  

#6. Converting Income To Numeric
def stringtoint(stringvalue):
    if pd.isnull(stringvalue):
        return None
    elif stringvalue == 'Prefer not to answer':
        return None
    else:
        stringsplit = stringvalue.split(' ')[0]
        stringsplit = stringsplit.replace('$', '')
        stringsplit = stringsplit.replace(',', '')
    return int(stringsplit)
data['int_income'] = data['How much total combined money did all members of your HOUSEHOLD earn last year?'].apply(stringtoint)
data['int_income'].describe()

#7. Correlating Travel Distance And Income
higher150_travel = data[data['int_income'] < 50000]['How far will you travel for Thanksgiving?']
print(higher150_travel.value_counts())
higher150_travel = data[data['int_income'] > 150000]['How far will you travel for Thanksgiving?']
print(higher150_travel.value_counts())

#8. Linking Friendship And Age
import numpy as np
print(data.pivot_table(index = "Have you ever tried to meet up with hometown friends on Thanksgiving night?", columns = 'Have you ever attended a "Friendsgiving?"', values = 'int_age', aggfunc = np.mean))
import numpy as np
print(data.pivot_table(index = "Have you ever tried to meet up with hometown friends on Thanksgiving night?", columns = 'Have you ever attended a "Friendsgiving?"', values = 'int_income', aggfunc = np.mean))
